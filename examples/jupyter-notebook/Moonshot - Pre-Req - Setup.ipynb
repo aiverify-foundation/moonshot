{
 "cells": [
  {
   "cell_type": "markdown",
   "metadata": {},
   "source": [
    "## Introduction\n",
    "\n",
    "Before you start exploring Moonshot through our jupyter notebook examples, it is essential to set up a proper working environment.\n",
    "\n",
    "Following through the set up in this notebook will help in avoiding any potential conflicts with Python libraries and ensure that all necessary dependencies are correctly installed.\n",
    "\n",
    "Let's go!"
   ]
  },
  {
   "cell_type": "markdown",
   "metadata": {},
   "source": [
    "The first step to getting started with Moonshot jupyter notebooks is to install Moonshot.\n",
    "\n",
    "You can do so by git cloning the Moonshot repository:<br>\n",
    "`git clone https://github.com/aiverify-foundation/moonshot.git`\n",
    "\n",
    "Note: If you have installed Moonshot PyPI package, the `examples` folder will not exist and you will still need to git clone the repository."
   ]
  },
  {
   "cell_type": "markdown",
   "metadata": {},
   "source": [
    "## 1. Pre-requisites\n",
    "\n",
    "This guide offers two options of setting up pre-requisites: <br>\n",
    "Option 1 allows Mac and Linux users to leave the setup to a script, while Option 2 documents the manual setup step-by-step, allowing a more customised setup."
   ]
  },
  {
   "cell_type": "markdown",
   "metadata": {},
   "source": [
    "### Option 1: Running the convenience script to perform setup\n",
    "\n",
    "There is a convenience script `jupyter_notebook_env_setup.sh` that is created for Mac and Linux.\n",
    "This script is located in `/path/to/moonshot/examples/jupyter-notebook/` will assist user to perform the following:\n",
    "1. Create a virtual environment `env` in its current location.\n",
    "2. Activate the `env` virtual environment.\n",
    "3. Perform pip installation of moonshot and rich library requirements.\n",
    "4. Clone moonshot-data and install its requirements.\n",
    "5. Create a jupyter notebook server in the virtual environment.\n",
    "6. Launch the jupyter notebook server."
   ]
  },
  {
   "cell_type": "raw",
   "metadata": {
    "vscode": {
     "languageId": "raw"
    }
   },
   "source": [
    "# Create a new terminal and go to the jupyter-notebook folder\n",
    "cd /path/to/moonshot/examples/jupyter-notebook/\n",
    "\n",
    "# Run the convenience script\n",
    ". ./jupyter_notebook_env_setup.sh"
   ]
  },
  {
   "cell_type": "markdown",
   "metadata": {},
   "source": [
    "After running the convenience script, you will be presented with website where you can see this:\n",
    "# <img src=\"assets/jupyter-assets-1.png\" alt=\"Jupyter Notebook Main Page\" width=\"70%\">"
   ]
  },
  {
   "cell_type": "markdown",
   "metadata": {},
   "source": [
    "### Option 2: Perform manual setup to setup virtual environment, and others.\n",
    "\n",
    "#### Setting Up a Virtual Environment\n",
    "\n",
    "A virtual environment is an isolated Python environment that allows you to manage dependencies for different projects separately. If you haven't already created a virtual environment for this notebook, we highly recommend doing so. Here's how you can set it up:\n",
    "\n",
    "1. Navigate to the notebook's directory: <br>\n",
    "`cd /path/to/moonshot/examples/jupyter-notebook/ `\n",
    "\n",
    "2. Create a virtual environment named 'env' (or any name you prefer): <br>\n",
    "`python -m venv env`\n",
    "\n",
    "3. Activate the virtual environment:\n",
    "   - On macOS and Linux:<br>\n",
    "   `bash source env/bin/activate`\n",
    "\n",
    "   \n",
    "   - On Windows:<br>\n",
    "   `bash .\\env\\Scripts\\activate`"
   ]
  },
  {
   "cell_type": "markdown",
   "metadata": {},
   "source": [
    "#### Install requirements\n",
    "4. With the virtual environment activated, install the required Python libraries using the provided `requirements.txt` file:<br>\n",
    "`pip install -r /path/to/moonshot/requirements.txt`\n",
    "\n",
    "5. You will need to install the following supporting libraries:<br>\n",
    "rich: for the pretty display<br>\n",
    "ipython, ipykernel: for the python notebook to work<br>\n",
    "`pip install rich ipython ipykernel` "
   ]
  },
  {
   "cell_type": "markdown",
   "metadata": {},
   "source": [
    "#### Downloading and Setting Up the Dataset\n",
    "\n",
    "The moonshot-data repository contains all of the test assets intended to work with the Moonshot library, including those that we will be using in these jupyter notebook tutorials. \n",
    "\n",
    "We will be downloading moonshot-data into the `jupyter-notebook` folder because the subsequent tutorials are referencing from this `jupyter-notebook` folder.\n",
    "\n",
    "If you already have `moonshot-data` folder elsewhere, you can indicate the path to `moonshot-data` at the start of the other notebooks.<br>\n",
    "&nbsp;&nbsp;&nbsp;&nbsp;&nbsp;&nbsp;eg. `moonshot_data_path = \"./moonshot-data\"`   <---------- Modify this to match your `moonshot-data` path if it is elsewhere<br>\n",
    "\n",
    "Follow these steps to set up moonshot-data: <br>\n",
    "1. Navigate to the notebook's directory and download the moonshot-data repository:\n",
    "\n",
    "    `cd /path/to/moonshot/examples/jupyter-notebook/ `<br>\n",
    "    `git clone https://github.com/aiverify-foundation/moonshot-data.git`\n",
    "\n",
    "2. Navigate to the `moonshot-data` directory and install any additional requirements for the dataset:\n",
    "\n",
    "    ```\n",
    "    cd /path/to/moonshot/examples/jupyter-notebook/moonshot-data\n",
    "    pip install -r requirements.txt\n",
    "    ```"
   ]
  },
  {
   "cell_type": "markdown",
   "metadata": {},
   "source": [
    "#### Running the Jupyter Notebook with the Virtual Environment\n",
    "\n",
    "After installing the requirements for moonshot and moonshot-data, we will also need to install the jupyter kernel for the virtual environment. \n",
    "\n",
    "1. This will create a kernel that can be used to run jupyter notebook commands inside the virtual environment.<br>\n",
    "`ipython kernel install --user --name=env`\n",
    "\n",
    "2. Using the same terminal, start the jupyter notebook server in the virtual environment.<br>\n",
    "Check that you are in the `examples/jupyter-nookbook` directory before running the following command.<br>\n",
    "This will start the jupyter notebook server and launch a web page that allows you to select which notebook to run.<br>\n",
    "`jupyter notebook`\n",
    "\n",
    "<br><br>\n",
    "After running `jupyter notebook`, you will be presented with this website:\n",
    "# <img src=\"assets/jupyter-assets-1.png\" alt=\"Jupyter Notebook Main Page\" width=\"70%\">"
   ]
  },
  {
   "cell_type": "markdown",
   "metadata": {},
   "source": [
    "## Selecting the preferred kernel\n",
    "\n",
    "When opening up a jupyter notebook and trying out the different tutorials, it is important to check which kernel is being selected.\n",
    "\n",
    "Select the kernel `env` which is the name of the kernel that we installed earlier using the command:<br>\n",
    "`ipython kernel install --user --name=env`\n",
    "\n",
    "# <img src=\"assets/jupyter-assets-2.png\" alt=\"Jupyter Notebook Kernel Selection\" width=\"70%\">\n"
   ]
  },
  {
   "cell_type": "markdown",
   "metadata": {},
   "source": [
    "## Final Preparations\n",
    "\n",
    "Before starting, ensure the following:\n",
    "- The virtual environment is active whenever you're working on this project.\n",
    "- All required libraries dependencies are installed within the virtual environment.\n",
    "- You have the necessary permissions to read and write within the data directories.\n",
    "\n",
    "With these steps completed, you are now ready to jump into Moonshot jupyter notebook examples to explore Moonshot's capabilities in evaluating LLMs and LLM applications."
   ]
  }
 ],
 "metadata": {
  "language_info": {
   "name": "python"
  }
 },
 "nbformat": 4,
 "nbformat_minor": 2
}
